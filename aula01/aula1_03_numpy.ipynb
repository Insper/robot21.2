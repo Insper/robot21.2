{
 "cells": [
  {
   "cell_type": "markdown",
   "id": "alike-andrew",
   "metadata": {},
   "source": [
    "# Exemplos úteis de numpy\n",
    "\n",
    "Como o OpenCV usa o Numpy para guardar a imagem, é muito útil usar as funções dessa biblioteca.\n",
    "\n",
    "\"Masterizar\" o Numpy vai dar um boost nas suas habilidades com imagens."
   ]
  },
  {
   "cell_type": "markdown",
   "id": "radical-active",
   "metadata": {},
   "source": [
    "Encontrando o mínimo de um array\n"
   ]
  },
  {
   "cell_type": "code",
   "execution_count": null,
   "id": "proprietary-print",
   "metadata": {
    "tags": []
   },
   "outputs": [],
   "source": [
    "%matplotlib inline\n",
    "import cv2\n",
    "print (\"OpenCV Version : %s \" % cv2.__version__)"
   ]
  },
  {
   "cell_type": "markdown",
   "id": "capable-interest",
   "metadata": {},
   "source": [
    "## Invertendo os canais da imagem\n",
    "\n",
    "Obtemos o mesmo efeito da conversão de BGR para RGB"
   ]
  },
  {
   "cell_type": "code",
   "execution_count": null,
   "id": "middle-intake",
   "metadata": {},
   "outputs": [],
   "source": [
    "# Vamos ler a imagem da arara igual ao exemplo do notebook da última aula\n",
    "arara = cv2.imread(\"arara_medium.jpg\")\n",
    "\n",
    "from matplotlib import pyplot as plt\n",
    "plt.imshow(arara)\n",
    "plt.show()"
   ]
  },
  {
   "cell_type": "markdown",
   "id": "compressed-russell",
   "metadata": {},
   "source": [
    "Podemos inverter os canais com o Numpy"
   ]
  },
  {
   "cell_type": "code",
   "execution_count": null,
   "id": "monetary-departure",
   "metadata": {},
   "outputs": [],
   "source": [
    "arara_rgb = arara[:,:,::-1].copy()"
   ]
  },
  {
   "cell_type": "code",
   "execution_count": null,
   "id": "interim-ticket",
   "metadata": {},
   "outputs": [],
   "source": [
    "plt.imshow(arara_rgb)\n",
    "plt.show()"
   ]
  },
  {
   "cell_type": "markdown",
   "id": "verbal-adolescent",
   "metadata": {},
   "source": [
    "## ROI - Region of Interest\n",
    "\n",
    "- Determinação de uma região retangular na imagem que se quer processar, de fora que ela possua as características de interesse. \n",
    "- Uma ROI define uma sub-imagem da imagem original, com menos linhas e/cou colunas\n",
    "\n",
    "Para a definição de uma ROI, é necessário estabelecer:\n",
    "- A linha inicial (`miny`)\n",
    "- A coluna inicial (`minx`)\n",
    "- A linha final (`maxy`)\n",
    "- A coluna final (`maxx`)\n",
    "\n",
    "A imagem do OpenCV em Python é armazenada dentro de uma estrutura tipo `array` bidimensional (tons de cinza) ou tridimensional (colorida)do pacote `numpy`, que permite a definição de ROIs através do fatiamento (*slicing*) dos eixos do `array`. Dessa forma, recuperamos uma ROI através do acesso por chaves:\n",
    "\n",
    "`roi = imagem[minyy:maxy, minx:maxx]`\n",
    "\n",
    "**Atenção:** os limites `maxy` e `maxx`para a linha e coluna respectivamente não estão inclusos na ROI.\n",
    "Além disso, o acesso às linhas e colunas da nova imagem devem obedecer novos índices, começando pela linha 0 e coluna 0. \n"
   ]
  },
  {
   "cell_type": "code",
   "execution_count": null,
   "id": "typical-tractor",
   "metadata": {
    "tags": []
   },
   "outputs": [],
   "source": [
    "minx, miny = 50,50\n",
    "maxx, maxy = 250,250"
   ]
  },
  {
   "cell_type": "code",
   "execution_count": null,
   "id": "rubber-voluntary",
   "metadata": {},
   "outputs": [],
   "source": [
    "from matplotlib import pyplot as plt\n",
    "plt.imshow(arara_rgb)\n",
    "plt.show()"
   ]
  },
  {
   "cell_type": "markdown",
   "id": "charming-firmware",
   "metadata": {},
   "source": [
    "Agora vamos utilizar as variáveis para definir uma região, que marcaremos:"
   ]
  },
  {
   "cell_type": "code",
   "execution_count": null,
   "id": "fifteen-grocery",
   "metadata": {},
   "outputs": [],
   "source": [
    "yellow_rgb = (255,255,0)\n",
    "arara_rgb = cv2.rectangle(arara_rgb, (minx, miny), (maxx, maxy), yellow_rgb)"
   ]
  },
  {
   "cell_type": "code",
   "execution_count": null,
   "id": "headed-moderator",
   "metadata": {},
   "outputs": [],
   "source": [
    "plt.imshow(arara_rgb)\n",
    "plt.show()"
   ]
  },
  {
   "cell_type": "markdown",
   "id": "russian-bernard",
   "metadata": {},
   "source": [
    "Vamos agora usar os valores do retângulo para recortar a imagem:"
   ]
  },
  {
   "cell_type": "code",
   "execution_count": null,
   "id": "weekly-comparison",
   "metadata": {},
   "outputs": [],
   "source": [
    "recorte = arara_rgb[miny: maxy,minx: maxx]"
   ]
  },
  {
   "cell_type": "code",
   "execution_count": null,
   "id": "impressive-paraguay",
   "metadata": {},
   "outputs": [],
   "source": [
    "plt.imshow(recorte)\n",
    "plt.show()"
   ]
  },
  {
   "cell_type": "markdown",
   "id": "legendary-saudi",
   "metadata": {},
   "source": [
    "## Mínimo, máximo, média, etc\n",
    "\n",
    "Com o Numpy é muito fácil tirar estatísticas da imagem.\n",
    "\n",
    "Aqui vamos trabalhar com a imagem em tons de cinza, carregando a imagem nesse formato."
   ]
  },
  {
   "cell_type": "code",
   "execution_count": null,
   "id": "olympic-battlefield",
   "metadata": {
    "tags": []
   },
   "outputs": [],
   "source": [
    "rintin_gray = cv2.imread(\"RinTinTin.jpg\", cv2.IMREAD_GRAYSCALE)"
   ]
  },
  {
   "cell_type": "code",
   "execution_count": null,
   "id": "stone-wyoming",
   "metadata": {},
   "outputs": [],
   "source": [
    "plt.imshow(rintin_gray, cmap=\"gray\", vmin=0, vmax=255)\n",
    "plt.show()"
   ]
  },
  {
   "cell_type": "markdown",
   "id": "available-senior",
   "metadata": {},
   "source": [
    "As funções do Numpy que já eram usadas com arrays 1D continuam funcionando:"
   ]
  },
  {
   "cell_type": "code",
   "execution_count": null,
   "id": "numerous-individual",
   "metadata": {},
   "outputs": [],
   "source": [
    "import numpy as np\n",
    "minimo = np.min(rintin_gray)"
   ]
  },
  {
   "cell_type": "code",
   "execution_count": null,
   "id": "loose-rubber",
   "metadata": {},
   "outputs": [],
   "source": [
    "maximo = np.max(rintin_gray)"
   ]
  },
  {
   "cell_type": "code",
   "execution_count": null,
   "id": "necessary-assurance",
   "metadata": {},
   "outputs": [],
   "source": [
    "media = np.mean(rintin_gray)"
   ]
  },
  {
   "cell_type": "code",
   "execution_count": null,
   "id": "peaceful-diamond",
   "metadata": {},
   "outputs": [],
   "source": [
    "minimo, maximo, media"
   ]
  },
  {
   "cell_type": "markdown",
   "id": "scientific-miller",
   "metadata": {},
   "source": [
    "# Filtragem por valores"
   ]
  },
  {
   "cell_type": "markdown",
   "id": "conditional-reservation",
   "metadata": {},
   "source": [
    "Na imagem do cão vamos transformar todos que têm valor acima da média em branco"
   ]
  },
  {
   "cell_type": "code",
   "execution_count": null,
   "id": "human-explosion",
   "metadata": {},
   "outputs": [],
   "source": [
    "gray = rintin_gray"
   ]
  },
  {
   "cell_type": "markdown",
   "id": "female-navigation",
   "metadata": {},
   "source": [
    "Note que indexar o array por uma condicão *automaticamente seleciona todas as posições* em que a condição é válida"
   ]
  },
  {
   "cell_type": "markdown",
   "id": "attractive-essex",
   "metadata": {},
   "source": [
    "Vamos forçar quem está acima da média para branco (ou seja 255)"
   ]
  },
  {
   "cell_type": "code",
   "execution_count": null,
   "id": "historical-flash",
   "metadata": {},
   "outputs": [],
   "source": [
    "gray[gray > media] = 255"
   ]
  },
  {
   "cell_type": "markdown",
   "id": "acknowledged-opera",
   "metadata": {},
   "source": [
    "E quem está abaixo da média para preto:"
   ]
  },
  {
   "cell_type": "code",
   "execution_count": null,
   "id": "compact-shoulder",
   "metadata": {},
   "outputs": [],
   "source": [
    "gray[gray < media] = 0"
   ]
  },
  {
   "cell_type": "code",
   "execution_count": null,
   "id": "quantitative-member",
   "metadata": {},
   "outputs": [],
   "source": [
    "plt.imshow(rintin_gray, cmap=\"gray\", vmin=0, vmax=255)\n",
    "plt.show()"
   ]
  },
  {
   "cell_type": "markdown",
   "id": "popular-transaction",
   "metadata": {},
   "source": [
    "# Achar os índices dos valores que atendem a uma certa condição:"
   ]
  },
  {
   "cell_type": "markdown",
   "id": "twelve-monday",
   "metadata": {},
   "source": [
    "Vamos achar o mínimo `x` e o mínimo `y` que têm pixel preto na imagem acima"
   ]
  },
  {
   "cell_type": "code",
   "execution_count": null,
   "id": "relative-reservoir",
   "metadata": {},
   "outputs": [],
   "source": [
    "results = np.where(gray==0)\n",
    "results"
   ]
  },
  {
   "cell_type": "markdown",
   "id": "meaningful-malawi",
   "metadata": {},
   "source": [
    "Primeiro temos um array de *linhas* e depois um array de colunas"
   ]
  },
  {
   "cell_type": "code",
   "execution_count": null,
   "id": "hazardous-discovery",
   "metadata": {},
   "outputs": [],
   "source": [
    "i_linha = results[0]\n",
    "i_linha"
   ]
  },
  {
   "cell_type": "code",
   "execution_count": null,
   "id": "operational-separate",
   "metadata": {},
   "outputs": [],
   "source": [
    "i_coluna = results[1]\n",
    "i_coluna"
   ]
  },
  {
   "cell_type": "markdown",
   "id": "strong-female",
   "metadata": {},
   "source": [
    "Vamos encontrar a primeira linha que contém o pixel preto (menor `y`):"
   ]
  },
  {
   "cell_type": "code",
   "execution_count": null,
   "id": "hydraulic-prescription",
   "metadata": {},
   "outputs": [],
   "source": [
    "menor_linha = min(i_linha)\n",
    "menor_linha"
   ]
  },
  {
   "cell_type": "markdown",
   "id": "careful-transfer",
   "metadata": {},
   "source": [
    "Note que a variável acima denota, dentre todas as posições que tinham pixel preto, qual a linha que veio primeiro.\n",
    "\n",
    "Porém, para encontrar as colunas dos pixels pretos que estão na linha `menor_linha`, temos que identificar onde esse valor se encontra no vetor `i_linha`"
   ]
  },
  {
   "cell_type": "code",
   "execution_count": null,
   "id": "dominant-metropolitan",
   "metadata": {},
   "outputs": [],
   "source": [
    "indices = np.where(i_linha == menor_linha)[0]\n",
    "indices"
   ]
  },
  {
   "cell_type": "markdown",
   "id": "approved-plant",
   "metadata": {},
   "source": [
    "Desses índices, vamos escolher o menor "
   ]
  },
  {
   "cell_type": "code",
   "execution_count": null,
   "id": "aware-symposium",
   "metadata": {},
   "outputs": [],
   "source": [
    "indice_1 = min(indices)"
   ]
  },
  {
   "cell_type": "markdown",
   "id": "chinese-drunk",
   "metadata": {},
   "source": [
    "Vamos desenhar um crosshair amarelo em cima da imagem em preto e branco, por isso precisamos convertê-las para uma imagem colorida primeiro"
   ]
  },
  {
   "cell_type": "code",
   "execution_count": null,
   "id": "liquid-understanding",
   "metadata": {},
   "outputs": [],
   "source": [
    "def crosshair(img, point, size, color):    \n",
    "    \"\"\" Desenha um crosshair centrado no point.\n",
    "        point deve ser uma tupla (x,y)\n",
    "        color é uma tupla R,G,B uint8\n",
    "    \"\"\"\n",
    "    x,y = point\n",
    "    cv2.line(img,(x - size,y),(x + size,y),color,5)\n",
    "    cv2.line(img,(x,y - size),(x, y + size),color,5)"
   ]
  },
  {
   "cell_type": "code",
   "execution_count": null,
   "id": "swiss-oakland",
   "metadata": {},
   "outputs": [],
   "source": [
    "rgb = cv2.cvtColor(gray, cv2.COLOR_GRAY2RGB)"
   ]
  },
  {
   "cell_type": "code",
   "execution_count": null,
   "id": "opening-strip",
   "metadata": {},
   "outputs": [],
   "source": [
    "yellow_rgb = (255,255,0)\n",
    "crosshair(rgb, (i_coluna[indice_1], i_linha[indice_1]), 5, yellow_rgb)"
   ]
  },
  {
   "cell_type": "code",
   "execution_count": null,
   "id": "established-philosophy",
   "metadata": {},
   "outputs": [],
   "source": [
    "plt.imshow(rgb)\n",
    "plt.show()"
   ]
  },
  {
   "cell_type": "markdown",
   "id": "representative-quantum",
   "metadata": {},
   "source": [
    "Agora é com você! Marque um crosshair na primeira coluna em que aparece um pixel preto. Dessa coluna, marque a linha mais acima.\n",
    "O crosshair deve ir na posição $(x,y)=(0, 83)$"
   ]
  }
 ],
 "metadata": {
  "kernelspec": {
   "display_name": "Python 3",
   "language": "python",
   "name": "python3"
  },
  "language_info": {
   "codemirror_mode": {
    "name": "ipython",
    "version": 3
   },
   "file_extension": ".py",
   "mimetype": "text/x-python",
   "name": "python",
   "nbconvert_exporter": "python",
   "pygments_lexer": "ipython3",
   "version": "3.9.2"
  }
 },
 "nbformat": 4,
 "nbformat_minor": 5
}

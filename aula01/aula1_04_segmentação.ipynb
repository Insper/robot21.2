{
 "cells": [
  {
   "cell_type": "markdown",
   "metadata": {},
   "source": [
    "# Segmentação da imagem com base no histograma"
   ]
  },
  {
   "cell_type": "markdown",
   "metadata": {},
   "source": [
    "## Mascaramento\n",
    "\n",
    "Forma de segmentação onde uma imagem binária (pixels preto e branco) é criada a partir da imagem original, colorida ou tins de cinza, para indicar os pixels de interesse e seprá-los dos pixels de fundo. No OpenCV essa imagem binária, chamada de máscara ou *mask*, é representada através de uma imagem em tons de cinza convencional, onde o valor preto `0` indica pixel de fundo e o valor branco `255` é usado para indicar o pixel de interesse.\n",
    "\n",
    "Por exemplo vamos tentar marcar as diferentes cores em uma máscara"
   ]
  },
  {
   "cell_type": "code",
   "execution_count": null,
   "metadata": {},
   "outputs": [],
   "source": [
    "import cv2\n",
    "import matplotlib.pyplot as plt\n",
    "\n",
    "# Já invertendo os canais\n",
    "cores_rgb = cv2.imread(\"cores.jpg\")[:,:,::-1]\n",
    "plt.imshow(cores_rgb)\n",
    "plt.show()"
   ]
  },
  {
   "cell_type": "markdown",
   "metadata": {},
   "source": [
    "Vamos ver o histograma de cada canal.\n",
    "\n",
    "Canal vermelho"
   ]
  },
  {
   "cell_type": "code",
   "execution_count": null,
   "metadata": {},
   "outputs": [],
   "source": [
    "cores_r = cores_rgb[:,:,0]\n",
    "plt.imshow(cores_r, cmap='gray')\n",
    "plt.show()"
   ]
  },
  {
   "cell_type": "markdown",
   "metadata": {},
   "source": [
    "Histograma"
   ]
  },
  {
   "cell_type": "code",
   "execution_count": null,
   "metadata": {},
   "outputs": [],
   "source": [
    "plt.hist(cores_r.flatten(), bins=256)\n",
    "plt.xlim([-1,256]) # para melhor visualização do histograma\n",
    "plt.show()"
   ]
  },
  {
   "cell_type": "markdown",
   "metadata": {},
   "source": [
    "Canal verde"
   ]
  },
  {
   "cell_type": "code",
   "execution_count": null,
   "metadata": {},
   "outputs": [],
   "source": [
    "cores_g = cores_rgb[:,:,1]\n",
    "plt.imshow(cores_g, cmap='gray')\n",
    "plt.show()"
   ]
  },
  {
   "cell_type": "code",
   "execution_count": null,
   "metadata": {},
   "outputs": [],
   "source": [
    "plt.hist(cores_g.flatten(), bins=256)\n",
    "plt.xlim([-1,256])\n",
    "plt.show()"
   ]
  },
  {
   "cell_type": "markdown",
   "metadata": {},
   "source": [
    "Canal azul"
   ]
  },
  {
   "cell_type": "code",
   "execution_count": null,
   "metadata": {},
   "outputs": [],
   "source": [
    "cores_b = cores_rgb[:,:,2]\n",
    "plt.imshow(cores_b, cmap='gray')\n",
    "plt.show()"
   ]
  },
  {
   "cell_type": "code",
   "execution_count": null,
   "metadata": {},
   "outputs": [],
   "source": [
    "plt.hist(cores_b.flatten(), bins=256)\n",
    "plt.xlim([-1,256])\n",
    "plt.show()"
   ]
  },
  {
   "cell_type": "code",
   "execution_count": null,
   "metadata": {},
   "outputs": [],
   "source": [
    "Identificando os pixels da cor verde"
   ]
  },
  {
   "cell_type": "code",
   "execution_count": null,
   "metadata": {},
   "outputs": [],
   "source": [
    "import numpy as np\n",
    "# Cria uma imagem 'zerada' com as mesmas dimensões de 'cores_r'\n",
    "mask_red = np.zeros_like(cores_r)\n",
    "mask_red[cores_r < 45] = 255\n",
    "\n",
    "plt.imshow(mask_red, cmap='gray')\n",
    "plt.show()"
   ]
  },
  {
   "cell_type": "code",
   "execution_count": null,
   "metadata": {},
   "outputs": [],
   "source": [
    "mask_green = np.zeros_like(cores_g)\n",
    "mask_green[cores_g > 80] = 255\n",
    "\n",
    "plt.imshow(mask_green, cmap='gray')\n",
    "plt.show()"
   ]
  },
  {
   "cell_type": "code",
   "execution_count": null,
   "metadata": {},
   "outputs": [],
   "source": [
    "mask_blue = np.zeros_like(cores_b)\n",
    "mask_blue[cores_b < 20] = 255\n",
    "\n",
    "plt.imshow(mask_blue, cmap='gray')\n",
    "plt.show()"
   ]
  }
 ],
 "metadata": {
  "kernelspec": {
   "display_name": "Python 3",
   "language": "python",
   "name": "python3"
  },
  "language_info": {
   "codemirror_mode": {
    "name": "ipython",
    "version": 3
   },
   "file_extension": ".py",
   "mimetype": "text/x-python",
   "name": "python",
   "nbconvert_exporter": "python",
   "pygments_lexer": "ipython3",
   "version": "3.9.2"
  }
 },
 "nbformat": 4,
 "nbformat_minor": 4
}
